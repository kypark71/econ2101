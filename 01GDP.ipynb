{
  "nbformat": 4,
  "nbformat_minor": 0,
  "metadata": {
    "colab": {
      "provenance": [],
      "authorship_tag": "ABX9TyNPTZ/4MFUW3YNX9b63AemD",
      "include_colab_link": true
    },
    "kernelspec": {
      "name": "python3",
      "display_name": "Python 3"
    },
    "language_info": {
      "name": "python"
    }
  },
  "cells": [
    {
      "cell_type": "markdown",
      "metadata": {
        "id": "view-in-github",
        "colab_type": "text"
      },
      "source": [
        "<a href=\"https://colab.research.google.com/github/kypark71/econ2101/blob/main/01GDP.ipynb\" target=\"_parent\"><img src=\"https://colab.research.google.com/assets/colab-badge.svg\" alt=\"Open In Colab\"/></a>"
      ]
    },
    {
      "cell_type": "markdown",
      "source": [
        "# 거시경제학 (2023년 2학기)화폐금융론\n",
        "\n",
        "## GDP와 구성요소\n",
        "\n",
        "ECOS와 FRED의 통계를 이용해서 다음을 살펴 본다.\n",
        "\n",
        "1. 우리나라, 일본, 중국의 기준시점 대비 GDP 추이\n",
        "2. 주요국과의 GDP, 1인당 GDP 비교\n",
        "3. 우리나라 GDP 지출"
      ],
      "metadata": {
        "id": "f1-ODIl2LDsO"
      }
    },
    {
      "cell_type": "code",
      "execution_count": 7,
      "metadata": {
        "colab": {
          "base_uri": "https://localhost:8080/"
        },
        "id": "kAjtWPKrG2ZT",
        "outputId": "31632c77-639d-4111-8eb5-13a275c94fac"
      },
      "outputs": [
        {
          "output_type": "stream",
          "name": "stdout",
          "text": [
            "Drive already mounted at /content/drive/; to attempt to forcibly remount, call drive.mount(\"/content/drive/\", force_remount=True).\n"
          ]
        }
      ],
      "source": [
        "# 구글 드라이브 mount\n",
        "import os\n",
        "from google.colab import drive\n",
        "drive.mount('/content/drive/')"
      ]
    },
    {
      "cell_type": "code",
      "source": [
        "# import libraries\n",
        "import pandas as pd\n",
        "import numpy as np\n",
        "import pandas_datareader as pdr\n",
        "from datetime import datetime\n",
        "import matplotlib.pyplot as plt"
      ],
      "metadata": {
        "id": "mcma20sLLUmI"
      },
      "execution_count": 8,
      "outputs": []
    },
    {
      "cell_type": "code",
      "source": [],
      "metadata": {
        "id": "-X8ypqv1IvXp"
      },
      "execution_count": null,
      "outputs": []
    }
  ]
}