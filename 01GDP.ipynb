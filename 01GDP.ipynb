{
  "nbformat": 4,
  "nbformat_minor": 0,
  "metadata": {
    "colab": {
      "provenance": [],
      "authorship_tag": "ABX9TyNPO24SiUsggtOEF4XMqMmu",
      "include_colab_link": true
    },
    "kernelspec": {
      "name": "python3",
      "display_name": "Python 3"
    },
    "language_info": {
      "name": "python"
    }
  },
  "cells": [
    {
      "cell_type": "markdown",
      "metadata": {
        "id": "view-in-github",
        "colab_type": "text"
      },
      "source": [
        "<a href=\"https://colab.research.google.com/github/kypark71/econ2101/blob/main/01GDP.ipynb\" target=\"_parent\"><img src=\"https://colab.research.google.com/assets/colab-badge.svg\" alt=\"Open In Colab\"/></a>"
      ]
    },
    {
      "cell_type": "markdown",
      "source": [
        "# 거시경제학 (2023년 2학기)\n",
        "\n",
        "- 2023년 2학기\n",
        "- 박기영 교수\n",
        "\n",
        "## GDP와 구성요소\n",
        "\n",
        "\n",
        "1. ECOS 이용하기\n",
        "2. FRED 이용하기\n",
        "3. 우리나라, 일본, 중국의 기준시점 대비 GDP 추이\n",
        "4. 주요국과의 GDP, 1인당 GDP 비교\n",
        "5. 우리나라 GDP 지출"
      ],
      "metadata": {
        "id": "f1-ODIl2LDsO"
      }
    },
    {
      "cell_type": "code",
      "execution_count": 1,
      "metadata": {
        "id": "kAjtWPKrG2ZT",
        "colab": {
          "base_uri": "https://localhost:8080/"
        },
        "outputId": "cba50ddb-5c78-4de7-f738-206fe4a2df40"
      },
      "outputs": [
        {
          "output_type": "stream",
          "name": "stdout",
          "text": [
            "Mounted at /content/drive/\n"
          ]
        }
      ],
      "source": [
        "# 구글 드라이브 mount\n",
        "import os\n",
        "from google.colab import drive\n",
        "drive.mount('/content/drive/')"
      ]
    },
    {
      "cell_type": "code",
      "source": [
        "# import libraries\n",
        "import pandas as pd\n",
        "import numpy as np\n",
        "import pandas_datareader as pdr\n",
        "from datetime import datetime\n",
        "import matplotlib.pyplot as plt"
      ],
      "metadata": {
        "id": "mcma20sLLUmI"
      },
      "execution_count": 2,
      "outputs": []
    },
    {
      "cell_type": "markdown",
      "source": [
        "## ECOS 이용하기\n",
        "\n",
        "- 먼저 할 일:\n",
        "1. ecos.bok.or.kr 에서 회원 가입\n",
        "2. open api 이용을 위한 인증키 신청\n",
        "\n",
        "- PublicDataReader 라이브러리: https://github.com/WooilJeong/PublicDataReader\n",
        "- PublicDataReader 라이브러리를 이용해서 ECOS 통계를 이용: https://wooiljeong.github.io/python/pdr-ecos/\n",
        "- ECOS 통계 코드 검색: https://ecos.bok.or.kr/api/#/DevGuide/StatisticalCodeSearch\n"
      ],
      "metadata": {
        "id": "S_eNLLOnPCg2"
      }
    },
    {
      "cell_type": "code",
      "source": [
        "!pip install PublicDataReader --upgrade"
      ],
      "metadata": {
        "id": "-X8ypqv1IvXp",
        "colab": {
          "base_uri": "https://localhost:8080/"
        },
        "outputId": "73cd8e83-2010-4616-e112-c92741796476"
      },
      "execution_count": 3,
      "outputs": [
        {
          "output_type": "stream",
          "name": "stdout",
          "text": [
            "Collecting PublicDataReader\n",
            "  Downloading PublicDataReader-1.0.23-py3-none-any.whl (3.2 MB)\n",
            "\u001b[2K     \u001b[90m━━━━━━━━━━━━━━━━━━━━━━━━━━━━━━━━━━━━━━━━\u001b[0m \u001b[32m3.2/3.2 MB\u001b[0m \u001b[31m10.5 MB/s\u001b[0m eta \u001b[36m0:00:00\u001b[0m\n",
            "\u001b[?25hRequirement already satisfied: beautifulsoup4 in /usr/local/lib/python3.10/dist-packages (from PublicDataReader) (4.11.2)\n",
            "Requirement already satisfied: lxml in /usr/local/lib/python3.10/dist-packages (from PublicDataReader) (4.9.3)\n",
            "Requirement already satisfied: numpy in /usr/local/lib/python3.10/dist-packages (from PublicDataReader) (1.23.5)\n",
            "Requirement already satisfied: pandas in /usr/local/lib/python3.10/dist-packages (from PublicDataReader) (1.5.3)\n",
            "Requirement already satisfied: requests in /usr/local/lib/python3.10/dist-packages (from PublicDataReader) (2.31.0)\n",
            "Collecting xmltodict (from PublicDataReader)\n",
            "  Downloading xmltodict-0.13.0-py2.py3-none-any.whl (10.0 kB)\n",
            "Requirement already satisfied: soupsieve>1.2 in /usr/local/lib/python3.10/dist-packages (from beautifulsoup4->PublicDataReader) (2.4.1)\n",
            "Requirement already satisfied: python-dateutil>=2.8.1 in /usr/local/lib/python3.10/dist-packages (from pandas->PublicDataReader) (2.8.2)\n",
            "Requirement already satisfied: pytz>=2020.1 in /usr/local/lib/python3.10/dist-packages (from pandas->PublicDataReader) (2023.3)\n",
            "Requirement already satisfied: charset-normalizer<4,>=2 in /usr/local/lib/python3.10/dist-packages (from requests->PublicDataReader) (3.2.0)\n",
            "Requirement already satisfied: idna<4,>=2.5 in /usr/local/lib/python3.10/dist-packages (from requests->PublicDataReader) (3.4)\n",
            "Requirement already satisfied: urllib3<3,>=1.21.1 in /usr/local/lib/python3.10/dist-packages (from requests->PublicDataReader) (2.0.4)\n",
            "Requirement already satisfied: certifi>=2017.4.17 in /usr/local/lib/python3.10/dist-packages (from requests->PublicDataReader) (2023.7.22)\n",
            "Requirement already satisfied: six>=1.5 in /usr/local/lib/python3.10/dist-packages (from python-dateutil>=2.8.1->pandas->PublicDataReader) (1.16.0)\n",
            "Installing collected packages: xmltodict, PublicDataReader\n",
            "Successfully installed PublicDataReader-1.0.23 xmltodict-0.13.0\n"
          ]
        }
      ]
    },
    {
      "cell_type": "code",
      "source": [
        "from PublicDataReader import Ecos\n",
        "\n",
        "# API key\n",
        "key_api = '6TUJ0HSGYIJ4A3JUSHYS'\n",
        "\n",
        "service_key = key_api\n",
        "api = Ecos(service_key)\n",
        "#df = api.get_statistic_table_list()\n",
        "#df.head()"
      ],
      "metadata": {
        "id": "8PqwuMtqQqDy"
      },
      "execution_count": 9,
      "outputs": []
    },
    {
      "cell_type": "code",
      "source": [
        "# 통계용어 사전\n",
        "df = api.get_statistics_word(용어=\"소비자동향\")\n",
        "df.head()"
      ],
      "metadata": {
        "id": "ZoYAeUvVVXNG",
        "colab": {
          "base_uri": "https://localhost:8080/",
          "height": 208
        },
        "outputId": "588367c8-8114-4d30-cc06-2540e1b8b5d8"
      },
      "execution_count": 10,
      "outputs": [
        {
          "output_type": "error",
          "ename": "AttributeError",
          "evalue": "ignored",
          "traceback": [
            "\u001b[0;31m---------------------------------------------------------------------------\u001b[0m",
            "\u001b[0;31mAttributeError\u001b[0m                            Traceback (most recent call last)",
            "\u001b[0;32m<ipython-input-10-6045a23487a5>\u001b[0m in \u001b[0;36m<cell line: 2>\u001b[0;34m()\u001b[0m\n\u001b[1;32m      1\u001b[0m \u001b[0;31m# 통계용어 사전\u001b[0m\u001b[0;34m\u001b[0m\u001b[0;34m\u001b[0m\u001b[0m\n\u001b[0;32m----> 2\u001b[0;31m \u001b[0mdf\u001b[0m \u001b[0;34m=\u001b[0m \u001b[0mapi\u001b[0m\u001b[0;34m.\u001b[0m\u001b[0mget_statistics_word\u001b[0m\u001b[0;34m(\u001b[0m\u001b[0m용어\u001b[0m\u001b[0;34m=\u001b[0m\u001b[0;34m\"소비자동향\"\u001b[0m\u001b[0;34m)\u001b[0m\u001b[0;34m\u001b[0m\u001b[0;34m\u001b[0m\u001b[0m\n\u001b[0m\u001b[1;32m      3\u001b[0m \u001b[0mdf\u001b[0m\u001b[0;34m.\u001b[0m\u001b[0mhead\u001b[0m\u001b[0;34m(\u001b[0m\u001b[0;34m)\u001b[0m\u001b[0;34m\u001b[0m\u001b[0;34m\u001b[0m\u001b[0m\n",
            "\u001b[0;31mAttributeError\u001b[0m: 'Ecos' object has no attribute 'get_statistics_word'"
          ]
        }
      ]
    },
    {
      "cell_type": "code",
      "source": [
        "# 통계세부항목 목록\n",
        "df = api.get_statistics_item_list(통계표코드=\"601Y002\")\n",
        "df.head()"
      ],
      "metadata": {
        "id": "qhTWPUQrVvtz",
        "colab": {
          "base_uri": "https://localhost:8080/",
          "height": 208
        },
        "outputId": "80c59b6c-a495-4270-abe7-bf05d6e7e9e2"
      },
      "execution_count": 8,
      "outputs": [
        {
          "output_type": "error",
          "ename": "AttributeError",
          "evalue": "ignored",
          "traceback": [
            "\u001b[0;31m---------------------------------------------------------------------------\u001b[0m",
            "\u001b[0;31mAttributeError\u001b[0m                            Traceback (most recent call last)",
            "\u001b[0;32m<ipython-input-8-959a8c06bde4>\u001b[0m in \u001b[0;36m<cell line: 2>\u001b[0;34m()\u001b[0m\n\u001b[1;32m      1\u001b[0m \u001b[0;31m# 통계세부항목 목록\u001b[0m\u001b[0;34m\u001b[0m\u001b[0;34m\u001b[0m\u001b[0m\n\u001b[0;32m----> 2\u001b[0;31m \u001b[0mdf\u001b[0m \u001b[0;34m=\u001b[0m \u001b[0mapi\u001b[0m\u001b[0;34m.\u001b[0m\u001b[0mget_statistics_item_list\u001b[0m\u001b[0;34m(\u001b[0m\u001b[0m통계표코드\u001b[0m\u001b[0;34m=\u001b[0m\u001b[0;34m\"601Y002\"\u001b[0m\u001b[0;34m)\u001b[0m\u001b[0;34m\u001b[0m\u001b[0;34m\u001b[0m\u001b[0m\n\u001b[0m\u001b[1;32m      3\u001b[0m \u001b[0mdf\u001b[0m\u001b[0;34m.\u001b[0m\u001b[0mhead\u001b[0m\u001b[0;34m(\u001b[0m\u001b[0;34m)\u001b[0m\u001b[0;34m\u001b[0m\u001b[0;34m\u001b[0m\u001b[0m\n",
            "\u001b[0;31mAttributeError\u001b[0m: 'Ecos' object has no attribute 'get_statistics_item_list'"
          ]
        }
      ]
    },
    {
      "cell_type": "code",
      "source": [],
      "metadata": {
        "id": "Ugwcl7jddHdg"
      },
      "execution_count": null,
      "outputs": []
    }
  ]
}