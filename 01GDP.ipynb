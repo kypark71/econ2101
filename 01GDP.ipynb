{
  "nbformat": 4,
  "nbformat_minor": 0,
  "metadata": {
    "colab": {
      "provenance": [],
      "authorship_tag": "ABX9TyOkbSlPF616yYvMx2LRNMAh",
      "include_colab_link": true
    },
    "kernelspec": {
      "name": "python3",
      "display_name": "Python 3"
    },
    "language_info": {
      "name": "python"
    }
  },
  "cells": [
    {
      "cell_type": "markdown",
      "metadata": {
        "id": "view-in-github",
        "colab_type": "text"
      },
      "source": [
        "<a href=\"https://colab.research.google.com/github/kypark71/econ2101/blob/main/01GDP.ipynb\" target=\"_parent\"><img src=\"https://colab.research.google.com/assets/colab-badge.svg\" alt=\"Open In Colab\"/></a>"
      ]
    },
    {
      "cell_type": "markdown",
      "source": [
        "# 거시경제학 (2023년 2학기)\n",
        "\n",
        "- 2023년 2학기\n",
        "- 박기영 교수\n",
        "\n",
        "## GDP와 구성요소\n",
        "\n",
        "\n",
        "1. ECOS 이용하기\n",
        "2. FRED 이용하기\n",
        "3. 우리나라, 일본, 중국의 기준시점 대비 GDP 추이\n",
        "4. 주요국과의 GDP, 1인당 GDP 비교\n",
        "5. 우리나라 GDP 지출"
      ],
      "metadata": {
        "id": "f1-ODIl2LDsO"
      }
    },
    {
      "cell_type": "code",
      "execution_count": null,
      "metadata": {
        "id": "kAjtWPKrG2ZT"
      },
      "outputs": [],
      "source": [
        "# 구글 드라이브 mount\n",
        "import os\n",
        "from google.colab import drive\n",
        "drive.mount('/content/drive/')"
      ]
    },
    {
      "cell_type": "code",
      "source": [
        "# import libraries\n",
        "import pandas as pd\n",
        "import numpy as np\n",
        "import pandas_datareader as pdr\n",
        "from datetime import datetime\n",
        "import matplotlib.pyplot as plt"
      ],
      "metadata": {
        "id": "mcma20sLLUmI"
      },
      "execution_count": null,
      "outputs": []
    },
    {
      "cell_type": "markdown",
      "source": [
        "## ECOS 이용하기\n",
        "\n",
        "- 먼저 할 일:\n",
        "1. ecos.bok.or.kr 에서 회원 가입\n",
        "2. open api 이용을 위한 인증키 신청\n",
        "\n",
        "- PublicDataReader 라이브러리: https://github.com/WooilJeong/PublicDataReader\n",
        "- PublicDataReader 라이브러리를 이용해서 ECOS 통계를 이용: https://wooiljeong.github.io/python/pdr-ecos/\n",
        "- ECOS 통계 코드 검색: https://ecos.bok.or.kr/api/#/DevGuide/StatisticalCodeSearch\n"
      ],
      "metadata": {
        "id": "S_eNLLOnPCg2"
      }
    },
    {
      "cell_type": "code",
      "source": [
        "!pip install PublicDataReader --upgrade"
      ],
      "metadata": {
        "id": "-X8ypqv1IvXp",
        "colab": {
          "base_uri": "https://localhost:8080/"
        },
        "outputId": "cec41d1a-1bbd-4da8-acc7-c65a7a310095"
      },
      "execution_count": null,
      "outputs": [
        {
          "output_type": "stream",
          "name": "stdout",
          "text": [
            "shell-init: error retrieving current directory: getcwd: cannot access parent directories: No such file or directory\n",
            "shell-init: error retrieving current directory: getcwd: cannot access parent directories: No such file or directory\n",
            "The folder you are executing pip from can no longer be found.\n"
          ]
        }
      ]
    },
    {
      "cell_type": "code",
      "source": [
        "from PublicDataReader import Ecos\n",
        "\n",
        "# API key\n",
        "key_api = '6TUJ0HSGYIJ4A3JUSHYS'\n",
        "\n",
        "service_key = key_api\n",
        "api = Ecos(service_key)\n",
        "df = api.get_statistic_table_list()\n",
        "df.head()"
      ],
      "metadata": {
        "id": "8PqwuMtqQqDy"
      },
      "execution_count": null,
      "outputs": []
    },
    {
      "cell_type": "code",
      "source": [
        "# 통계용어 사전\n",
        "df = api.get_statistics_word(용어=\"소비자동향\")\n",
        "df.head()"
      ],
      "metadata": {
        "id": "ZoYAeUvVVXNG"
      },
      "execution_count": null,
      "outputs": []
    },
    {
      "cell_type": "code",
      "source": [
        "# 통계세부항목 목록\n",
        "df = api.get_statistics_item_list(통계표코드=\"601Y002\")\n",
        "df.head()"
      ],
      "metadata": {
        "id": "qhTWPUQrVvtz"
      },
      "execution_count": null,
      "outputs": []
    }
  ]
}